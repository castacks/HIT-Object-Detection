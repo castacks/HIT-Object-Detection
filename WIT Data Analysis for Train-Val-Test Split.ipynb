{
 "cells": [
  {
   "cell_type": "code",
   "execution_count": 221,
   "id": "47dffab4",
   "metadata": {},
   "outputs": [],
   "source": [
    "import os\n",
    "import cv2\n",
    "import numpy as np\n",
    "import pandas as pd\n",
    "import matplotlib.pyplot as plt"
   ]
  },
  {
   "cell_type": "code",
   "execution_count": 222,
   "id": "ffac73a9",
   "metadata": {},
   "outputs": [
    {
     "data": {
      "text/plain": [
       "['2022-05-11_FIRE-SGL-111-Confluence_M600',\n",
       " '2022-11-08_FIRE-SGL-108-Reade-Township_M600',\n",
       " '2021-11-08_FIRE-SGL-174-Rossiter_M100']"
      ]
     },
     "execution_count": 222,
     "metadata": {},
     "output_type": "execute_result"
    }
   ],
   "source": [
    "DATAROOT = \"WIT-UAV-Dataset\"\n",
    "os.listdir(DATAROOT)"
   ]
  },
  {
   "cell_type": "markdown",
   "id": "aa2c35e3",
   "metadata": {},
   "source": [
    "- seek cameras\n",
    "- FLIR cameras\n",
    "\n",
    "\n",
    "per folder: \n",
    "- how many total boxes per class?\n",
    "- what percentage of detections to no detections?\n",
    "- visualization of detection number over time?\n",
    "- size statistics of boxes?\n",
    "- height of UAS?"
   ]
  },
  {
   "cell_type": "markdown",
   "id": "20594d1c",
   "metadata": {},
   "source": [
    "how to ensure similar distributions of fire vs no fire?"
   ]
  },
  {
   "cell_type": "markdown",
   "id": "3e0e856b",
   "metadata": {},
   "source": [
    "```\n",
    "WIT-UAV-Dataset\n",
    "├── 2021-11-08_FIRE-SGL-174-Rossiter_M100-Data-Collect\n",
    "│   ├── 2021-11-07_19-19-31_dji_sdk_and_thermal.repaired\n",
    "│   ├── 2021-11-07_19-19-36_dji_sdk_and_thermal.repaired\n",
    "│   ├── 2021-11-07_19-19-54_dji_sdk_and_thermal\n",
    "│   └── 2021-11-07_19-20-26_dji_sdk_and_thermal.repaired\n",
    "├── 2022-05-11_FIRE-SGL-111-Confluence_M600-Data-Collect\n",
    "│   ├── seek_displayImage\n",
    "│   │   ├── 2022-04-27_00-18-06\n",
    "│   │   ├── 2022-04-27_00-18-47\n",
    "│   │   └── 2022-04-27_00-24-53\n",
    "│   └── thermal_1_image_rect\n",
    "│       ├── 2022-04-27_00-18-06\n",
    "│       ├── 2022-04-27_00-18-47\n",
    "│       └── 2022-04-27_00-24-53\n",
    "└── 2022-11-08_FIRE-SGL-108-Reade-Township_M600-Coverage-Test\n",
    "    ├── 2022-11-08_13-15-55_dji_sdk_and_thermal\n",
    "    ├── 2022-11-08_14-13-12_dji_sdk_and_thermal\n",
    "    └── 2022-11-08_14-40-21_dji_sdk_and_thermal.kinda-repaired-images-only_labeled\n",
    "```"
   ]
  },
  {
   "cell_type": "code",
   "execution_count": 223,
   "id": "a616ce07",
   "metadata": {},
   "outputs": [
    {
     "name": "stdout",
     "output_type": "stream",
     "text": [
      "WIT-UAV-Dataset/2022-05-11_FIRE-SGL-111-Confluence_M600/2022-04-27_00-24-53_seek has 0 subdirectories and 1303 files\n",
      "WIT-UAV-Dataset/2022-05-11_FIRE-SGL-111-Confluence_M600/2022-04-27_00-18-06_flir has 0 subdirectories and 1177 files\n",
      "WIT-UAV-Dataset/2022-05-11_FIRE-SGL-111-Confluence_M600/2022-04-27_00-18-47_flir has 0 subdirectories and 1227 files\n",
      "WIT-UAV-Dataset/2022-05-11_FIRE-SGL-111-Confluence_M600/2022-04-27_00-18-47_seek has 0 subdirectories and 2182 files\n",
      "WIT-UAV-Dataset/2022-05-11_FIRE-SGL-111-Confluence_M600/2022-04-27_00-18-06_seek has 0 subdirectories and 1585 files\n",
      "WIT-UAV-Dataset/2022-05-11_FIRE-SGL-111-Confluence_M600/2022-04-27_00-24-53_flir has 0 subdirectories and 1184 files\n",
      "WIT-UAV-Dataset/2022-11-08_FIRE-SGL-108-Reade-Township_M600/2022-11-08_13-15-55_seek has 0 subdirectories and 250 files\n",
      "WIT-UAV-Dataset/2022-11-08_FIRE-SGL-108-Reade-Township_M600/2022-11-08_14-13-12_seek has 0 subdirectories and 193 files\n",
      "WIT-UAV-Dataset/2022-11-08_FIRE-SGL-108-Reade-Township_M600/2022-11-08_14-40-21_seek has 0 subdirectories and 660 files\n",
      "WIT-UAV-Dataset/2021-11-08_FIRE-SGL-174-Rossiter_M100/2021-11-07_19-19-54_flir has 0 subdirectories and 71 files\n",
      "WIT-UAV-Dataset/2021-11-08_FIRE-SGL-174-Rossiter_M100/2021-11-07_19-19-36_flir has 0 subdirectories and 515 files\n",
      "WIT-UAV-Dataset/2021-11-08_FIRE-SGL-174-Rossiter_M100/2021-11-07_19-19-31_flir has 0 subdirectories and 417 files\n",
      "WIT-UAV-Dataset/2021-11-08_FIRE-SGL-174-Rossiter_M100/2021-11-07_19-20-26_flir has 0 subdirectories and 207 files\n"
     ]
    }
   ],
   "source": [
    "list_of_runs = []\n",
    "for dirpath, dirnames, filenames in os.walk(DATAROOT):\n",
    "    if not dirnames:\n",
    "        list_of_runs.append(dirpath)\n",
    "        print(dirpath, \"has 0 subdirectories and\", len(filenames), \"files\")\n",
    "list_of_runs = sorted(list_of_runs)"
   ]
  },
  {
   "cell_type": "code",
   "execution_count": 224,
   "id": "bc45dc26",
   "metadata": {},
   "outputs": [
    {
     "data": {
      "text/plain": [
       "['WIT-UAV-Dataset/2021-11-08_FIRE-SGL-174-Rossiter_M100/2021-11-07_19-19-31_flir',\n",
       " 'WIT-UAV-Dataset/2021-11-08_FIRE-SGL-174-Rossiter_M100/2021-11-07_19-19-36_flir',\n",
       " 'WIT-UAV-Dataset/2021-11-08_FIRE-SGL-174-Rossiter_M100/2021-11-07_19-19-54_flir',\n",
       " 'WIT-UAV-Dataset/2021-11-08_FIRE-SGL-174-Rossiter_M100/2021-11-07_19-20-26_flir',\n",
       " 'WIT-UAV-Dataset/2022-05-11_FIRE-SGL-111-Confluence_M600/2022-04-27_00-18-06_flir',\n",
       " 'WIT-UAV-Dataset/2022-05-11_FIRE-SGL-111-Confluence_M600/2022-04-27_00-18-06_seek',\n",
       " 'WIT-UAV-Dataset/2022-05-11_FIRE-SGL-111-Confluence_M600/2022-04-27_00-18-47_flir',\n",
       " 'WIT-UAV-Dataset/2022-05-11_FIRE-SGL-111-Confluence_M600/2022-04-27_00-18-47_seek',\n",
       " 'WIT-UAV-Dataset/2022-05-11_FIRE-SGL-111-Confluence_M600/2022-04-27_00-24-53_flir',\n",
       " 'WIT-UAV-Dataset/2022-05-11_FIRE-SGL-111-Confluence_M600/2022-04-27_00-24-53_seek',\n",
       " 'WIT-UAV-Dataset/2022-11-08_FIRE-SGL-108-Reade-Township_M600/2022-11-08_13-15-55_seek',\n",
       " 'WIT-UAV-Dataset/2022-11-08_FIRE-SGL-108-Reade-Township_M600/2022-11-08_14-13-12_seek',\n",
       " 'WIT-UAV-Dataset/2022-11-08_FIRE-SGL-108-Reade-Township_M600/2022-11-08_14-40-21_seek']"
      ]
     },
     "execution_count": 224,
     "metadata": {},
     "output_type": "execute_result"
    }
   ],
   "source": [
    "list_of_runs"
   ]
  },
  {
   "cell_type": "code",
   "execution_count": 225,
   "id": "1445db04",
   "metadata": {},
   "outputs": [],
   "source": [
    "run = list_of_runs[1]"
   ]
  },
  {
   "cell_type": "code",
   "execution_count": 226,
   "id": "8fbba0d3",
   "metadata": {},
   "outputs": [
    {
     "data": {
      "text/plain": [
       "'WIT-UAV-Dataset/2021-11-08_FIRE-SGL-174-Rossiter_M100/2021-11-07_19-19-36_flir'"
      ]
     },
     "execution_count": 226,
     "metadata": {},
     "output_type": "execute_result"
    }
   ],
   "source": [
    "run"
   ]
  },
  {
   "cell_type": "code",
   "execution_count": 227,
   "id": "88951a26",
   "metadata": {},
   "outputs": [],
   "source": [
    "def count_detections_per_class(path):\n",
    "    num_v = 0\n",
    "    num_h = 0\n",
    "    with open(path, \"r\") as f:\n",
    "        lines = f.readlines()\n",
    "        # if len(lines) == 0:\n",
    "        #     print(lines)\n",
    "        #     raise ValueError(f\"File {path} is empty\")\n",
    "        for line in lines:\n",
    "            if \"v\" in line or \"c\" in line:\n",
    "                num_v += 1\n",
    "            elif \"h\" in line:\n",
    "                num_h += 1\n",
    "            else:\n",
    "                print(lines)\n",
    "                raise ValueError(f\"File {path} has no class\")\n",
    "    return num_v, num_h"
   ]
  },
  {
   "cell_type": "code",
   "execution_count": 228,
   "id": "cf690fa7",
   "metadata": {},
   "outputs": [],
   "source": [
    "def count_run_stats(run):\n",
    "    num_total = 0\n",
    "    num_labeled = 0\n",
    "    total_num_v = 0\n",
    "    total_num_h = 0\n",
    "    width, height = 0, 0\n",
    "    for f in os.listdir(run):\n",
    "        if \"label\" in f: # is label file\n",
    "            num_v, num_h = count_detections_per_class(run + \"/\" + f)\n",
    "            total_num_v += num_v\n",
    "            total_num_h += num_h\n",
    "\n",
    "            if num_v > 0 or num_h > 0:\n",
    "                num_labeled += 1\n",
    "        else: # is image file\n",
    "            if width == 0: # if resolution is not set, then set it\n",
    "                # find resolution from image file\n",
    "                img = cv2.imread(run + \"/\" + f)\n",
    "                height, width, _ = img.shape\n",
    "            num_total += 1\n",
    "    \n",
    "    # print(f\"resolution={width}, {height}\")\n",
    "    # print(f\"{num_total=}, {num_labeled=}, {total_num_v=}, {total_num_h=}\")\n",
    "    # print(f\"percentage labeled={num_labeled/num_total}\")\n",
    "    return num_total, num_labeled, total_num_v, total_num_h, width, height"
   ]
  },
  {
   "cell_type": "code",
   "execution_count": 229,
   "id": "9cb454e0",
   "metadata": {},
   "outputs": [
    {
     "data": {
      "text/html": [
       "<div>\n",
       "<style scoped>\n",
       "    .dataframe tbody tr th:only-of-type {\n",
       "        vertical-align: middle;\n",
       "    }\n",
       "\n",
       "    .dataframe tbody tr th {\n",
       "        vertical-align: top;\n",
       "    }\n",
       "\n",
       "    .dataframe thead th {\n",
       "        text-align: right;\n",
       "    }\n",
       "</style>\n",
       "<table border=\"1\" class=\"dataframe\">\n",
       "  <thead>\n",
       "    <tr style=\"text-align: right;\">\n",
       "      <th></th>\n",
       "      <th>folder</th>\n",
       "      <th>num_total</th>\n",
       "      <th>num_labeled</th>\n",
       "      <th>total_num_v</th>\n",
       "      <th>total_num_h</th>\n",
       "      <th>resolution</th>\n",
       "    </tr>\n",
       "  </thead>\n",
       "  <tbody>\n",
       "    <tr>\n",
       "      <th>0</th>\n",
       "      <td>2021-11-07_19-19-31_flir</td>\n",
       "      <td>368</td>\n",
       "      <td>47</td>\n",
       "      <td>36</td>\n",
       "      <td>176</td>\n",
       "      <td>640x512</td>\n",
       "    </tr>\n",
       "    <tr>\n",
       "      <th>1</th>\n",
       "      <td>2021-11-07_19-19-36_flir</td>\n",
       "      <td>469</td>\n",
       "      <td>46</td>\n",
       "      <td>101</td>\n",
       "      <td>59</td>\n",
       "      <td>640x512</td>\n",
       "    </tr>\n",
       "    <tr>\n",
       "      <th>2</th>\n",
       "      <td>2021-11-07_19-19-54_flir</td>\n",
       "      <td>49</td>\n",
       "      <td>22</td>\n",
       "      <td>0</td>\n",
       "      <td>33</td>\n",
       "      <td>640x512</td>\n",
       "    </tr>\n",
       "    <tr>\n",
       "      <th>3</th>\n",
       "      <td>2021-11-07_19-20-26_flir</td>\n",
       "      <td>150</td>\n",
       "      <td>54</td>\n",
       "      <td>0</td>\n",
       "      <td>137</td>\n",
       "      <td>640x512</td>\n",
       "    </tr>\n",
       "    <tr>\n",
       "      <th>4</th>\n",
       "      <td>2022-04-27_00-18-06_flir</td>\n",
       "      <td>974</td>\n",
       "      <td>49</td>\n",
       "      <td>50</td>\n",
       "      <td>0</td>\n",
       "      <td>640x512</td>\n",
       "    </tr>\n",
       "  </tbody>\n",
       "</table>\n",
       "</div>"
      ],
      "text/plain": [
       "                     folder num_total num_labeled total_num_v total_num_h  \\\n",
       "0  2021-11-07_19-19-31_flir       368          47          36         176   \n",
       "1  2021-11-07_19-19-36_flir       469          46         101          59   \n",
       "2  2021-11-07_19-19-54_flir        49          22           0          33   \n",
       "3  2021-11-07_19-20-26_flir       150          54           0         137   \n",
       "4  2022-04-27_00-18-06_flir       974          49          50           0   \n",
       "\n",
       "  resolution  \n",
       "0    640x512  \n",
       "1    640x512  \n",
       "2    640x512  \n",
       "3    640x512  \n",
       "4    640x512  "
      ]
     },
     "execution_count": 229,
     "metadata": {},
     "output_type": "execute_result"
    }
   ],
   "source": [
    "# pandas dataframe to store information about each run\n",
    "df = pd.DataFrame(columns=[\"folder\", \"num_total\", \"num_labeled\", \"total_num_v\", \"total_num_h\", \"resolution\"])\n",
    "\n",
    "for run in list_of_runs:\n",
    "    num_total, num_labeled, total_num_v, total_num_h, width, height = count_run_stats(run)\n",
    "    # folder name is the run name minus the path\n",
    "    folder = run.split(\"/\")[-1]\n",
    "    df = pd.concat([df, pd.DataFrame({\"folder\": folder, \"num_total\": num_total, \"num_labeled\": num_labeled, \"total_num_v\": total_num_v, \"total_num_h\": total_num_h, \"resolution\": f\"{width}x{height}\"}, index=[0])], ignore_index=True)\n",
    "\n",
    "df.head()"
   ]
  },
  {
   "cell_type": "code",
   "execution_count": 230,
   "id": "b7cc9317",
   "metadata": {},
   "outputs": [
    {
     "name": "stdout",
     "output_type": "stream",
     "text": [
      "Total percent labelled: 29.645063945969248 %\n"
     ]
    },
    {
     "data": {
      "text/html": [
       "<div>\n",
       "<style scoped>\n",
       "    .dataframe tbody tr th:only-of-type {\n",
       "        vertical-align: middle;\n",
       "    }\n",
       "\n",
       "    .dataframe tbody tr th {\n",
       "        vertical-align: top;\n",
       "    }\n",
       "\n",
       "    .dataframe thead th {\n",
       "        text-align: right;\n",
       "    }\n",
       "</style>\n",
       "<table border=\"1\" class=\"dataframe\">\n",
       "  <thead>\n",
       "    <tr style=\"text-align: right;\">\n",
       "      <th></th>\n",
       "      <th>folder</th>\n",
       "      <th>num_total</th>\n",
       "      <th>num_labeled</th>\n",
       "      <th>total_num_v</th>\n",
       "      <th>total_num_h</th>\n",
       "      <th>resolution</th>\n",
       "      <th>percentage_labeled</th>\n",
       "    </tr>\n",
       "  </thead>\n",
       "  <tbody>\n",
       "    <tr>\n",
       "      <th>0</th>\n",
       "      <td>2021-11-07_19-19-31_flir</td>\n",
       "      <td>368</td>\n",
       "      <td>47</td>\n",
       "      <td>36</td>\n",
       "      <td>176</td>\n",
       "      <td>640x512</td>\n",
       "      <td>12.771739</td>\n",
       "    </tr>\n",
       "    <tr>\n",
       "      <th>1</th>\n",
       "      <td>2021-11-07_19-19-36_flir</td>\n",
       "      <td>469</td>\n",
       "      <td>46</td>\n",
       "      <td>101</td>\n",
       "      <td>59</td>\n",
       "      <td>640x512</td>\n",
       "      <td>9.808102</td>\n",
       "    </tr>\n",
       "    <tr>\n",
       "      <th>2</th>\n",
       "      <td>2021-11-07_19-19-54_flir</td>\n",
       "      <td>49</td>\n",
       "      <td>22</td>\n",
       "      <td>0</td>\n",
       "      <td>33</td>\n",
       "      <td>640x512</td>\n",
       "      <td>44.897959</td>\n",
       "    </tr>\n",
       "    <tr>\n",
       "      <th>3</th>\n",
       "      <td>2021-11-07_19-20-26_flir</td>\n",
       "      <td>150</td>\n",
       "      <td>54</td>\n",
       "      <td>0</td>\n",
       "      <td>137</td>\n",
       "      <td>640x512</td>\n",
       "      <td>36.0</td>\n",
       "    </tr>\n",
       "    <tr>\n",
       "      <th>4</th>\n",
       "      <td>2022-04-27_00-18-06_flir</td>\n",
       "      <td>974</td>\n",
       "      <td>49</td>\n",
       "      <td>50</td>\n",
       "      <td>0</td>\n",
       "      <td>640x512</td>\n",
       "      <td>5.030801</td>\n",
       "    </tr>\n",
       "  </tbody>\n",
       "</table>\n",
       "</div>"
      ],
      "text/plain": [
       "                     folder num_total num_labeled total_num_v total_num_h  \\\n",
       "0  2021-11-07_19-19-31_flir       368          47          36         176   \n",
       "1  2021-11-07_19-19-36_flir       469          46         101          59   \n",
       "2  2021-11-07_19-19-54_flir        49          22           0          33   \n",
       "3  2021-11-07_19-20-26_flir       150          54           0         137   \n",
       "4  2022-04-27_00-18-06_flir       974          49          50           0   \n",
       "\n",
       "  resolution percentage_labeled  \n",
       "0    640x512          12.771739  \n",
       "1    640x512           9.808102  \n",
       "2    640x512          44.897959  \n",
       "3    640x512               36.0  \n",
       "4    640x512           5.030801  "
      ]
     },
     "execution_count": 230,
     "metadata": {},
     "output_type": "execute_result"
    },
    {
     "data": {
      "image/png": "[encoded data removed]",
      "text/plain": [
       "<Figure size 1000x500 with 1 Axes>"
      ]
     },
     "metadata": {},
     "output_type": "display_data"
    }
   ],
   "source": [
    "# find percentage of labeled images\n",
    "df[\"percentage_labeled\"] = df[\"num_labeled\"] / df[\"num_total\"] * 100\n",
    "# find total percentage of labeled images\n",
    "total_labeled = df[\"num_labeled\"].sum() / df[\"num_total\"].sum()\n",
    "print(f\"Total percent labelled: {total_labeled * 100} %\")\n",
    "# plot percentage of labeled images vs folder. y scale is 0 to 100\n",
    "df.plot(x=\"folder\", y=\"percentage_labeled\", kind=\"bar\", figsize=(10, 5), ylim=(0, 100), title=\"Percentage of Labeled Images\", ylabel=\"Percentage Labeled\", xlabel=\"Folder\")\n",
    "plt.legend([\"Percentage Labeled\"])\n",
    "df.head()"
   ]
  },
  {
   "cell_type": "code",
   "execution_count": 231,
   "id": "54b928eb",
   "metadata": {},
   "outputs": [
    {
     "name": "stdout",
     "output_type": "stream",
     "text": [
      "Total number of vehicles: 5030\n",
      "Total number of humans: 1543\n"
     ]
    },
    {
     "data": {
      "image/png": "[encoded data removed]",
      "text/plain": [
       "<Figure size 1000x500 with 1 Axes>"
      ]
     },
     "metadata": {},
     "output_type": "display_data"
    }
   ],
   "source": [
    "# plot number of vehicles and humans vs folder\n",
    "# legend is number of vehicles and humans\n",
    "df.plot(x=\"folder\", y=[\"total_num_v\", \"total_num_h\"], kind=\"bar\", figsize=(10, 5), title=\"Number of Vehicles & Humans\" , ylabel=\"Number of Detections\", xlabel=\"Folder\", legend=True)\n",
    "plt.legend([\"Vehicles\", \"Humans\"])\n",
    "# add values of total number of vehicles and humans on top of bars\n",
    "for i, row in df.iterrows():\n",
    "    plt.text(i - 0.3, row[\"total_num_v\"] + 10, row[\"total_num_v\"])\n",
    "    plt.text(i + 0.0, row[\"total_num_h\"] + 10, row[\"total_num_h\"])\n",
    "\n",
    "# find total number of vehicles and humans\n",
    "total_num_v = df[\"total_num_v\"].sum()\n",
    "total_num_h = df[\"total_num_h\"].sum()\n",
    "print(f\"Total number of vehicles: {total_num_v}\")\n",
    "print(f\"Total number of humans: {total_num_h}\")\n"
   ]
  },
  {
   "cell_type": "code",
   "execution_count": 232,
   "id": "b2812d97",
   "metadata": {},
   "outputs": [
    {
     "name": "stdout",
     "output_type": "stream",
     "text": [
      "Total number of 320x240 images: 0\n",
      "Total number of 640x512 images: 3449\n",
      "Total number of 320x240 labeled images: 0\n",
      "Total number of 640x512 labeled images: 891\n"
     ]
    },
    {
     "data": {
      "text/plain": [
       "<BarContainer object of 2 artists>"
      ]
     },
     "execution_count": 232,
     "metadata": {},
     "output_type": "execute_result"
    },
    {
     "data": {
      "image/png": "[encoded data removed]",
      "text/plain": [
       "<Figure size 640x480 with 1 Axes>"
      ]
     },
     "metadata": {},
     "output_type": "display_data"
    }
   ],
   "source": [
    "# find total number of 320x240 images\n",
    "total_320x240 = df[df[\"resolution\"] == \"320x240\"][\"num_total\"].sum()\n",
    "\n",
    "# find total number of 640x512 images\n",
    "total_640x512 = df[df[\"resolution\"] == \"640x512\"][\"num_total\"].sum()\n",
    "\n",
    "print(f\"Total number of 320x240 images: {total_320x240}\")\n",
    "print(f\"Total number of 640x512 images: {total_640x512}\")\n",
    "\n",
    "# plot number of 320x240 and 640x512 images calculated above with x,y labels and title\n",
    "plt.bar([\"320x240\", \"640x512\"], [total_320x240, total_640x512])\n",
    "plt.title(\"Number of Images by Resolution\")\n",
    "plt.xlabel(\"Resolution\")\n",
    "plt.ylabel(\"Number of Images\")\n",
    "\n",
    "# find total number of 320x240 labeled images\n",
    "total_320x240_labeled = df[df[\"resolution\"] == \"320x240\"][\"num_labeled\"].sum()\n",
    "\n",
    "# find total number of 640x512 labeled images\n",
    "total_640x512_labeled = df[df[\"resolution\"] == \"640x512\"][\"num_labeled\"].sum()\n",
    "\n",
    "print(f\"Total number of 320x240 labeled images: {total_320x240_labeled}\")\n",
    "print(f\"Total number of 640x512 labeled images: {total_640x512_labeled}\")\n",
    "\n",
    "# plot number of 320x240 and 640x512 labeled images calculated above with x,y labels and title\n",
    "plt.bar([\"320x240\", \"640x512\"], [total_320x240_labeled, total_640x512_labeled])\n",
    "\n"
   ]
  },
  {
   "cell_type": "markdown",
   "id": "4775a222",
   "metadata": {},
   "source": [
    "# Train/Val/Test Split"
   ]
  },
  {
   "cell_type": "markdown",
   "id": "edaa8fea",
   "metadata": {},
   "source": [
    "70 15 15"
   ]
  },
  {
   "cell_type": "markdown",
   "id": "aff34e82",
   "metadata": {},
   "source": [
    "10 files\n",
    "7 train\n",
    "1 val\n",
    "2 test (flip these"
   ]
  },
  {
   "cell_type": "code",
   "execution_count": 233,
   "id": "c045cde1",
   "metadata": {},
   "outputs": [
    {
     "name": "stdout",
     "output_type": "stream",
     "text": [
      "WIT-UAV-Dataset\n"
     ]
    }
   ],
   "source": [
    "print(DATAROOT)"
   ]
  },
  {
   "cell_type": "code",
   "execution_count": 234,
   "id": "96d76bfb",
   "metadata": {},
   "outputs": [
    {
     "data": {
      "text/plain": [
       "[]"
      ]
     },
     "execution_count": 234,
     "metadata": {},
     "output_type": "execute_result"
    }
   ],
   "source": [
    "from glob import glob\n",
    "glob(DATAROOT+\"/**/.png\", recursive=True)"
   ]
  },
  {
   "cell_type": "code",
   "execution_count": 235,
   "id": "bbb975bf",
   "metadata": {},
   "outputs": [
    {
     "name": "stdout",
     "output_type": "stream",
     "text": [
      "------\n",
      "WIT-UAV-Dataset/2021-11-08_FIRE-SGL-174-Rossiter_M100/2021-11-07_19-19-31_flir\n",
      "------\n",
      "WIT-UAV-Dataset/2021-11-08_FIRE-SGL-174-Rossiter_M100/2021-11-07_19-19-36_flir\n",
      "------\n",
      "WIT-UAV-Dataset/2021-11-08_FIRE-SGL-174-Rossiter_M100/2021-11-07_19-19-54_flir\n",
      "------\n",
      "WIT-UAV-Dataset/2021-11-08_FIRE-SGL-174-Rossiter_M100/2021-11-07_19-20-26_flir\n",
      "------\n",
      "WIT-UAV-Dataset/2022-05-11_FIRE-SGL-111-Confluence_M600/2022-04-27_00-18-06_flir\n",
      "------\n",
      "WIT-UAV-Dataset/2022-05-11_FIRE-SGL-111-Confluence_M600/2022-04-27_00-18-06_seek\n",
      "------\n",
      "WIT-UAV-Dataset/2022-05-11_FIRE-SGL-111-Confluence_M600/2022-04-27_00-18-47_flir\n",
      "------\n",
      "WIT-UAV-Dataset/2022-05-11_FIRE-SGL-111-Confluence_M600/2022-04-27_00-18-47_seek\n",
      "------\n",
      "WIT-UAV-Dataset/2022-05-11_FIRE-SGL-111-Confluence_M600/2022-04-27_00-24-53_flir\n",
      "------\n",
      "WIT-UAV-Dataset/2022-05-11_FIRE-SGL-111-Confluence_M600/2022-04-27_00-24-53_seek\n",
      "------\n",
      "WIT-UAV-Dataset/2022-11-08_FIRE-SGL-108-Reade-Township_M600/2022-11-08_13-15-55_seek\n",
      "------\n",
      "WIT-UAV-Dataset/2022-11-08_FIRE-SGL-108-Reade-Township_M600/2022-11-08_14-13-12_seek\n",
      "------\n",
      "WIT-UAV-Dataset/2022-11-08_FIRE-SGL-108-Reade-Township_M600/2022-11-08_14-40-21_seek\n"
     ]
    }
   ],
   "source": [
    "train_files = []\n",
    "val_files = []\n",
    "test_files = []\n",
    "\n",
    "import random\n",
    "from itertools import zip_longest\n",
    "\n",
    "def chunker(seq, size):\n",
    "    return (seq[pos:pos + size] for pos in range(0, len(seq), size))\n",
    "\n",
    "def swap(a, b):\n",
    "    return b, a\n",
    "\n",
    "for run in list_of_runs:\n",
    "    print(\"------\")\n",
    "    print(run)\n",
    "    \n",
    "    files_of_10 = chunker([run + \"/\" + fi for fi in os.listdir(run) if fi.endswith(\".png\")], 10)\n",
    "    \n",
    "    num_val = 2\n",
    "    \n",
    "    \n",
    "    for ten_files in files_of_10:\n",
    "        shuffled = list(ten_files)\n",
    "        random.shuffle(shuffled)\n",
    "        trains = shuffled[:7]\n",
    "        vals = shuffled[7:7+num_val]\n",
    "        tests = shuffled[7+num_val:]\n",
    "        \n",
    "        train_files += trains\n",
    "        val_files += vals\n",
    "        test_files += tests\n",
    "        num_val = 3 - num_val"
   ]
  },
  {
   "cell_type": "code",
   "execution_count": 236,
   "id": "1ab7f9c5",
   "metadata": {},
   "outputs": [
    {
     "data": {
      "text/plain": [
       "(4877, 1043, 1031)"
      ]
     },
     "execution_count": 236,
     "metadata": {},
     "output_type": "execute_result"
    }
   ],
   "source": [
    "len(train_files), len(val_files), len(test_files)"
   ]
  },
  {
   "cell_type": "code",
   "execution_count": 237,
   "id": "3f7d79ba",
   "metadata": {},
   "outputs": [],
   "source": [
    "\n",
    "test_files += val_files[-6:]\n",
    "val_files = val_files[:-6]"
   ]
  },
  {
   "cell_type": "code",
   "execution_count": 238,
   "id": "23f6d381",
   "metadata": {},
   "outputs": [
    {
     "data": {
      "text/plain": [
       "(1037, 1037)"
      ]
     },
     "execution_count": 238,
     "metadata": {},
     "output_type": "execute_result"
    }
   ],
   "source": [
    "len(val_files), len(test_files)"
   ]
  },
  {
   "cell_type": "code",
   "execution_count": 239,
   "id": "3f2d2c48",
   "metadata": {},
   "outputs": [],
   "source": [
    "import shutil\n",
    "\n",
    "def copy_out(files, output_path):\n",
    "    \n",
    "    for t in files:\n",
    "        t_no_parent_folder = t[len(DATAROOT):]\n",
    "        target_file = f\"{output_path}/\" + t_no_parent_folder\n",
    "        print(\"copy\", t, \"to\", target_file)\n",
    "        os.makedirs(os.path.dirname(target_file), exist_ok=True)\n",
    "        shutil.copyfile(t, target_file)\n",
    "\n",
    "        label_file = t[:-4]  + \".label\"\n",
    "        if os.path.isfile(label_file):\n",
    "            target_file = f\"{output_path}/\" + label_file[len(DATAROOT):]\n",
    "            print(\"copy\", label_file, \"to\", target_file)\n",
    "            os.makedirs(os.path.dirname(target_file), exist_ok=True)\n",
    "            shutil.copyfile(label_file, target_file)"
   ]
  },
  {
   "cell_type": "code",
   "execution_count": 240,
   "id": "c6945d94",
   "metadata": {},
   "outputs": [],
   "source": [
    "# copy_out(train_files, \"train\")\n",
    "# copy_out(val_files, \"val\")\n",
    "# copy_out(test_files, \"test\")"
   ]
  },
  {
   "cell_type": "code",
   "execution_count": null,
   "id": "593cf586",
   "metadata": {},
   "outputs": [],
   "source": []
  }
 ],
 "metadata": {
  "kernelspec": {
   "display_name": "Python 3 (ipykernel)",
   "language": "python",
   "name": "python3"
  },
  "language_info": {
   "codemirror_mode": {
    "name": "ipython",
    "version": 3
   },
   "file_extension": ".py",
   "mimetype": "text/x-python",
   "name": "python",
   "nbconvert_exporter": "python",
   "pygments_lexer": "ipython3",
   "version": "3.9.16"
  },
  "vscode": {
   "interpreter": {
    "hash": "31f2aee4e71d21fbe5cf8b01ff0e069b9275f58929596ceb00d14d90e3e16cd6"
   }
  }
 },
 "nbformat": 4,
 "nbformat_minor": 5
}
