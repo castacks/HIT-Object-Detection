{
 "cells": [
  {
   "cell_type": "code",
   "execution_count": 1,
   "id": "47dffab4",
   "metadata": {},
   "outputs": [],
   "source": [
    "import os\n",
    "import cv2\n",
    "import numpy as np\n",
    "import pandas as pd\n",
    "import matplotlib.pyplot as plt"
   ]
  },
  {
   "cell_type": "code",
   "execution_count": 2,
   "id": "ffac73a9",
   "metadata": {},
   "outputs": [
    {
     "data": {
      "text/plain": [
       "['2022-05-11_FIRE-SGL-111-Confluence_M600',\n",
       " '2021-11-08_FIRE-SGL-174-Rossiter_M100',\n",
       " '2022-11-08_FIRE-SGL-108-Reade-Township_M600']"
      ]
     },
     "execution_count": 2,
     "metadata": {},
     "output_type": "execute_result"
    }
   ],
   "source": [
    "DATAROOT = \"WIT-UAV-Dataset_split/test\"\n",
    "os.listdir(DATAROOT)"
   ]
  },
  {
   "cell_type": "markdown",
   "id": "aa2c35e3",
   "metadata": {},
   "source": [
    "- seek cameras\n",
    "- FLIR cameras\n",
    "\n",
    "\n",
    "per folder: \n",
    "- how many total boxes per class?\n",
    "- what percentage of detections to no detections?\n",
    "- visualization of detection number over time?\n",
    "- size statistics of boxes?\n",
    "- height of UAS?"
   ]
  },
  {
   "cell_type": "markdown",
   "id": "20594d1c",
   "metadata": {},
   "source": [
    "how to ensure similar distributions of fire vs no fire?"
   ]
  },
  {
   "cell_type": "markdown",
   "id": "3e0e856b",
   "metadata": {},
   "source": [
    "```\n",
    "WIT-UAV-Dataset\n",
    "├── 2021-11-08_FIRE-SGL-174-Rossiter_M100-Data-Collect\n",
    "│   ├── 2021-11-07_19-19-31_dji_sdk_and_thermal.repaired\n",
    "│   ├── 2021-11-07_19-19-36_dji_sdk_and_thermal.repaired\n",
    "│   ├── 2021-11-07_19-19-54_dji_sdk_and_thermal\n",
    "│   └── 2021-11-07_19-20-26_dji_sdk_and_thermal.repaired\n",
    "├── 2022-05-11_FIRE-SGL-111-Confluence_M600-Data-Collect\n",
    "│   ├── seek_displayImage\n",
    "│   │   ├── 2022-04-27_00-18-06\n",
    "│   │   ├── 2022-04-27_00-18-47\n",
    "│   │   └── 2022-04-27_00-24-53\n",
    "│   └── thermal_1_image_rect\n",
    "│       ├── 2022-04-27_00-18-06\n",
    "│       ├── 2022-04-27_00-18-47\n",
    "│       └── 2022-04-27_00-24-53\n",
    "└── 2022-11-08_FIRE-SGL-108-Reade-Township_M600-Coverage-Test\n",
    "    ├── 2022-11-08_13-15-55_dji_sdk_and_thermal\n",
    "    ├── 2022-11-08_14-13-12_dji_sdk_and_thermal\n",
    "    └── 2022-11-08_14-40-21_dji_sdk_and_thermal.kinda-repaired-images-only_labeled\n",
    "```"
   ]
  },
  {
   "cell_type": "code",
   "execution_count": 3,
   "id": "a616ce07",
   "metadata": {},
   "outputs": [
    {
     "name": "stdout",
     "output_type": "stream",
     "text": [
      "WIT-UAV-Dataset_split/test/2022-05-11_FIRE-SGL-111-Confluence_M600/2022-04-27_00-24-53_flir has 0 subdirectories and 182 files\n",
      "WIT-UAV-Dataset_split/test/2022-05-11_FIRE-SGL-111-Confluence_M600/2022-04-27_00-24-53_seek has 0 subdirectories and 196 files\n",
      "WIT-UAV-Dataset_split/test/2022-05-11_FIRE-SGL-111-Confluence_M600/2022-04-27_00-18-47_seek has 0 subdirectories and 328 files\n",
      "WIT-UAV-Dataset_split/test/2022-05-11_FIRE-SGL-111-Confluence_M600/2022-04-27_00-18-06_flir has 0 subdirectories and 169 files\n",
      "WIT-UAV-Dataset_split/test/2022-05-11_FIRE-SGL-111-Confluence_M600/2022-04-27_00-18-06_seek has 0 subdirectories and 240 files\n",
      "WIT-UAV-Dataset_split/test/2022-05-11_FIRE-SGL-111-Confluence_M600/2022-04-27_00-18-47_flir has 0 subdirectories and 187 files\n",
      "WIT-UAV-Dataset_split/test/2021-11-08_FIRE-SGL-174-Rossiter_M100/2021-11-07_19-19-36_flir has 0 subdirectories and 76 files\n",
      "WIT-UAV-Dataset_split/test/2021-11-08_FIRE-SGL-174-Rossiter_M100/2021-11-07_19-20-26_flir has 0 subdirectories and 29 files\n",
      "WIT-UAV-Dataset_split/test/2021-11-08_FIRE-SGL-174-Rossiter_M100/2021-11-07_19-19-31_flir has 0 subdirectories and 64 files\n",
      "WIT-UAV-Dataset_split/test/2021-11-08_FIRE-SGL-174-Rossiter_M100/2021-11-07_19-19-54_flir has 0 subdirectories and 10 files\n",
      "WIT-UAV-Dataset_split/test/2022-11-08_FIRE-SGL-108-Reade-Township_M600/2022-11-08_14-13-12_seek has 0 subdirectories and 29 files\n",
      "WIT-UAV-Dataset_split/test/2022-11-08_FIRE-SGL-108-Reade-Township_M600/2022-11-08_13-15-55_seek has 0 subdirectories and 34 files\n",
      "WIT-UAV-Dataset_split/test/2022-11-08_FIRE-SGL-108-Reade-Township_M600/2022-11-08_14-40-21_seek has 0 subdirectories and 110 files\n"
     ]
    }
   ],
   "source": [
    "list_of_runs = []\n",
    "for dirpath, dirnames, filenames in os.walk(DATAROOT):\n",
    "    if not dirnames:\n",
    "        list_of_runs.append(dirpath)\n",
    "        print(dirpath, \"has 0 subdirectories and\", len(filenames), \"files\")\n",
    "list_of_runs = sorted(list_of_runs)"
   ]
  },
  {
   "cell_type": "code",
   "execution_count": 4,
   "id": "bc45dc26",
   "metadata": {},
   "outputs": [
    {
     "data": {
      "text/plain": [
       "['WIT-UAV-Dataset_split/test/2021-11-08_FIRE-SGL-174-Rossiter_M100/2021-11-07_19-19-31_flir',\n",
       " 'WIT-UAV-Dataset_split/test/2021-11-08_FIRE-SGL-174-Rossiter_M100/2021-11-07_19-19-36_flir',\n",
       " 'WIT-UAV-Dataset_split/test/2021-11-08_FIRE-SGL-174-Rossiter_M100/2021-11-07_19-19-54_flir',\n",
       " 'WIT-UAV-Dataset_split/test/2021-11-08_FIRE-SGL-174-Rossiter_M100/2021-11-07_19-20-26_flir',\n",
       " 'WIT-UAV-Dataset_split/test/2022-05-11_FIRE-SGL-111-Confluence_M600/2022-04-27_00-18-06_flir',\n",
       " 'WIT-UAV-Dataset_split/test/2022-05-11_FIRE-SGL-111-Confluence_M600/2022-04-27_00-18-06_seek',\n",
       " 'WIT-UAV-Dataset_split/test/2022-05-11_FIRE-SGL-111-Confluence_M600/2022-04-27_00-18-47_flir',\n",
       " 'WIT-UAV-Dataset_split/test/2022-05-11_FIRE-SGL-111-Confluence_M600/2022-04-27_00-18-47_seek',\n",
       " 'WIT-UAV-Dataset_split/test/2022-05-11_FIRE-SGL-111-Confluence_M600/2022-04-27_00-24-53_flir',\n",
       " 'WIT-UAV-Dataset_split/test/2022-05-11_FIRE-SGL-111-Confluence_M600/2022-04-27_00-24-53_seek',\n",
       " 'WIT-UAV-Dataset_split/test/2022-11-08_FIRE-SGL-108-Reade-Township_M600/2022-11-08_13-15-55_seek',\n",
       " 'WIT-UAV-Dataset_split/test/2022-11-08_FIRE-SGL-108-Reade-Township_M600/2022-11-08_14-13-12_seek',\n",
       " 'WIT-UAV-Dataset_split/test/2022-11-08_FIRE-SGL-108-Reade-Township_M600/2022-11-08_14-40-21_seek']"
      ]
     },
     "execution_count": 4,
     "metadata": {},
     "output_type": "execute_result"
    }
   ],
   "source": [
    "list_of_runs"
   ]
  },
  {
   "cell_type": "code",
   "execution_count": 5,
   "id": "1445db04",
   "metadata": {},
   "outputs": [],
   "source": [
    "run = list_of_runs[1]"
   ]
  },
  {
   "cell_type": "code",
   "execution_count": 6,
   "id": "8fbba0d3",
   "metadata": {},
   "outputs": [
    {
     "data": {
      "text/plain": [
       "'WIT-UAV-Dataset_split/test/2021-11-08_FIRE-SGL-174-Rossiter_M100/2021-11-07_19-19-36_flir'"
      ]
     },
     "execution_count": 6,
     "metadata": {},
     "output_type": "execute_result"
    }
   ],
   "source": [
    "run"
   ]
  },
  {
   "cell_type": "code",
   "execution_count": 7,
   "id": "88951a26",
   "metadata": {},
   "outputs": [],
   "source": [
    "def count_detections_per_class(path):\n",
    "    num_v = 0\n",
    "    num_h = 0\n",
    "    with open(path, \"r\") as f:\n",
    "        lines = f.readlines()\n",
    "        # if len(lines) == 0:\n",
    "        #     print(lines)\n",
    "        #     raise ValueError(f\"File {path} is empty\")\n",
    "        for line in lines:\n",
    "            if \"v\" in line or \"c\" in line:\n",
    "                num_v += 1\n",
    "            elif \"h\" in line:\n",
    "                num_h += 1\n",
    "            else:\n",
    "                print(lines)\n",
    "                raise ValueError(f\"File {path} has no class\")\n",
    "    return num_v, num_h"
   ]
  },
  {
   "cell_type": "code",
   "execution_count": 8,
   "id": "cf690fa7",
   "metadata": {},
   "outputs": [],
   "source": [
    "def count_run_stats(run):\n",
    "    num_total = 0\n",
    "    num_labeled = 0\n",
    "    total_num_v = 0\n",
    "    total_num_h = 0\n",
    "    width, height = 0, 0\n",
    "    sgl = None\n",
    "    if \"Rossiter\" in run:\n",
    "        sgl = \"Rossiter\"\n",
    "    elif \"Confluence\" in run:\n",
    "        sgl = \"Confluence\"\n",
    "    elif \"Reade-Township\" in run:\n",
    "        sgl = \"Reade\"\n",
    "    else:\n",
    "        sgl = \"Unknown\"\n",
    "\n",
    "    for f in os.listdir(run):\n",
    "        if \"label\" in f: # is label file\n",
    "            num_v, num_h = count_detections_per_class(run + \"/\" + f)\n",
    "            total_num_v += num_v\n",
    "            total_num_h += num_h\n",
    "\n",
    "            if num_v > 0 or num_h > 0:\n",
    "                num_labeled += 1\n",
    "        else: # is image file\n",
    "            if width == 0: # if resolution is not set, then set it\n",
    "                # find resolution from image file\n",
    "                img = cv2.imread(run + \"/\" + f)\n",
    "                height, width, _ = img.shape\n",
    "            num_total += 1\n",
    "    \n",
    "    # print(f\"resolution={width}, {height}\")\n",
    "    # print(f\"{num_total=}, {num_labeled=}, {total_num_v=}, {total_num_h=}\")\n",
    "    # print(f\"percentage labeled={num_labeled/num_total}\")\n",
    "    return sgl, num_total, num_labeled, total_num_v, total_num_h, width, height"
   ]
  },
  {
   "cell_type": "code",
   "execution_count": 9,
   "id": "9cb454e0",
   "metadata": {},
   "outputs": [
    {
     "name": "stdout",
     "output_type": "stream",
     "text": [
      "{'2021-11-07_19-19-31_flir': 'Rossiter_1_flir', '2021-11-07_19-19-36_flir': 'Rossiter_2_flir', '2021-11-07_19-19-54_flir': 'Rossiter_3_flir', '2021-11-07_19-20-26_flir': 'Rossiter_4_flir', '2022-04-27_00-18-06_flir': 'Confluence_1_flir', '2022-04-27_00-18-06_seek': 'Confluence_2_seek', '2022-04-27_00-18-47_flir': 'Confluence_3_flir', '2022-04-27_00-18-47_seek': 'Confluence_4_seek', '2022-04-27_00-24-53_flir': 'Confluence_5_flir', '2022-04-27_00-24-53_seek': 'Confluence_6_seek', '2022-11-08_13-15-55_seek': 'Reade_1_seek', '2022-11-08_14-13-12_seek': 'Reade_2_seek', '2022-11-08_14-40-21_seek': 'Reade_3_seek'}\n"
     ]
    },
    {
     "data": {
      "text/html": [
       "<div>\n",
       "<style scoped>\n",
       "    .dataframe tbody tr th:only-of-type {\n",
       "        vertical-align: middle;\n",
       "    }\n",
       "\n",
       "    .dataframe tbody tr th {\n",
       "        vertical-align: top;\n",
       "    }\n",
       "\n",
       "    .dataframe thead th {\n",
       "        text-align: right;\n",
       "    }\n",
       "</style>\n",
       "<table border=\"1\" class=\"dataframe\">\n",
       "  <thead>\n",
       "    <tr style=\"text-align: right;\">\n",
       "      <th></th>\n",
       "      <th>folder</th>\n",
       "      <th>num_total</th>\n",
       "      <th>num_labeled</th>\n",
       "      <th>total_num_v</th>\n",
       "      <th>total_num_h</th>\n",
       "      <th>resolution</th>\n",
       "      <th>sgl</th>\n",
       "    </tr>\n",
       "  </thead>\n",
       "  <tbody>\n",
       "    <tr>\n",
       "      <th>0</th>\n",
       "      <td>Rossiter_1_flir</td>\n",
       "      <td>54</td>\n",
       "      <td>10</td>\n",
       "      <td>7</td>\n",
       "      <td>37</td>\n",
       "      <td>640x512</td>\n",
       "      <td>Rossiter</td>\n",
       "    </tr>\n",
       "    <tr>\n",
       "      <th>1</th>\n",
       "      <td>Rossiter_2_flir</td>\n",
       "      <td>69</td>\n",
       "      <td>7</td>\n",
       "      <td>18</td>\n",
       "      <td>15</td>\n",
       "      <td>640x512</td>\n",
       "      <td>Rossiter</td>\n",
       "    </tr>\n",
       "    <tr>\n",
       "      <th>2</th>\n",
       "      <td>Rossiter_3_flir</td>\n",
       "      <td>6</td>\n",
       "      <td>4</td>\n",
       "      <td>0</td>\n",
       "      <td>7</td>\n",
       "      <td>640x512</td>\n",
       "      <td>Rossiter</td>\n",
       "    </tr>\n",
       "    <tr>\n",
       "      <th>3</th>\n",
       "      <td>Rossiter_4_flir</td>\n",
       "      <td>21</td>\n",
       "      <td>8</td>\n",
       "      <td>0</td>\n",
       "      <td>24</td>\n",
       "      <td>640x512</td>\n",
       "      <td>Rossiter</td>\n",
       "    </tr>\n",
       "    <tr>\n",
       "      <th>4</th>\n",
       "      <td>Confluence_1_flir</td>\n",
       "      <td>145</td>\n",
       "      <td>9</td>\n",
       "      <td>9</td>\n",
       "      <td>0</td>\n",
       "      <td>640x512</td>\n",
       "      <td>Confluence</td>\n",
       "    </tr>\n",
       "  </tbody>\n",
       "</table>\n",
       "</div>"
      ],
      "text/plain": [
       "              folder num_total num_labeled total_num_v total_num_h resolution  \\\n",
       "0    Rossiter_1_flir        54          10           7          37    640x512   \n",
       "1    Rossiter_2_flir        69           7          18          15    640x512   \n",
       "2    Rossiter_3_flir         6           4           0           7    640x512   \n",
       "3    Rossiter_4_flir        21           8           0          24    640x512   \n",
       "4  Confluence_1_flir       145           9           9           0    640x512   \n",
       "\n",
       "          sgl  \n",
       "0    Rossiter  \n",
       "1    Rossiter  \n",
       "2    Rossiter  \n",
       "3    Rossiter  \n",
       "4  Confluence  "
      ]
     },
     "execution_count": 9,
     "metadata": {},
     "output_type": "execute_result"
    }
   ],
   "source": [
    "rename_dict = {}\n",
    "# pandas dataframe to store information about each run\n",
    "df = pd.DataFrame(columns=[\"folder\", \"num_total\", \"num_labeled\", \"total_num_v\", \"total_num_h\", \"resolution\"])\n",
    "rossiter_idx = 0\n",
    "confluence_idx = 0\n",
    "reade_idx = 0\n",
    "for run in list_of_runs:\n",
    "    sgl, num_total, num_labeled, total_num_v, total_num_h, width, height = count_run_stats(run)\n",
    "    if sgl == \"Rossiter\":\n",
    "        rossiter_idx += 1\n",
    "        run_idx = rossiter_idx\n",
    "    elif sgl == \"Confluence\":\n",
    "        confluence_idx += 1\n",
    "        run_idx = confluence_idx\n",
    "    elif sgl == \"Reade\":\n",
    "        reade_idx += 1\n",
    "        run_idx = reade_idx\n",
    "    else:\n",
    "        pass\n",
    "    \n",
    "    # find type of camera from folder name\n",
    "    cam = run.split(\"_\")[-1] \n",
    "    run_name = f\"{sgl}_{run_idx}_{cam}\"\n",
    "    \n",
    "    # folder name is the run name minus the path\n",
    "    folder = run.split(\"/\")[-1]\n",
    "\n",
    "    # store folder : run_name in dictionary \n",
    "    # to be used to rename folders later\n",
    "    rename_dict[folder] = run_name\n",
    "\n",
    "    df = pd.concat([df, pd.DataFrame({\"folder\": run_name, \"sgl\": sgl, \"num_total\": num_total, \"num_labeled\": num_labeled, \"total_num_v\": total_num_v, \"total_num_h\": total_num_h, \"resolution\": f\"{width}x{height}\"}, index=[0])], ignore_index=True)\n",
    "print(rename_dict)\n",
    "df.head()"
   ]
  },
  {
   "cell_type": "code",
   "execution_count": 10,
   "id": "b7cc9317",
   "metadata": {},
   "outputs": [
    {
     "name": "stdout",
     "output_type": "stream",
     "text": [
      "Total percent labelled: 31.72613307618129 %\n",
      "Total number of images: 1037\n"
     ]
    },
    {
     "data": {
      "image/png": "[encoded data removed]",
      "text/plain": [
       "<Figure size 1000x500 with 1 Axes>"
      ]
     },
     "metadata": {},
     "output_type": "display_data"
    }
   ],
   "source": [
    "# find percentage of labeled images\n",
    "df[\"percentage_labeled\"] = df[\"num_labeled\"] / df[\"num_total\"] * 100\n",
    "# find total percentage of labeled images\n",
    "total_labeled = df[\"num_labeled\"].sum() / df[\"num_total\"].sum()\n",
    "print(f\"Total percent labelled: {total_labeled * 100} %\")\n",
    "# plot percentage of labeled images vs folder. y scale is 0 to 100\n",
    "df.plot(x=\"folder\", y=\"percentage_labeled\", kind=\"bar\", figsize=(10, 5), ylim=(0, 100), title=\"Percentage of Labeled Images\", ylabel=\"Percentage Labeled\", xlabel=\"Folder\")\n",
    "plt.legend([\"Percentage Labeled\"])\n",
    "df.head()\n",
    "\n",
    "# Find total number of images\n",
    "total_images = df[\"num_total\"].sum()\n",
    "print(f\"Total number of images: {total_images}\")"
   ]
  },
  {
   "cell_type": "code",
   "execution_count": null,
   "id": "faec23ee",
   "metadata": {},
   "outputs": [],
   "source": []
  },
  {
   "cell_type": "code",
   "execution_count": 11,
   "id": "abefee9a",
   "metadata": {},
   "outputs": [
    {
     "data": {
      "text/plain": [
       "([0, 1, 2, 3, 4, 5, 6, 7, 8, 9, 10, 11, 12],\n",
       " [Text(0, 0, ''),\n",
       "  Text(0, 0, ''),\n",
       "  Text(0, 0, ''),\n",
       "  Text(0, 0, ''),\n",
       "  Text(0, 0, ''),\n",
       "  Text(0, 0, ''),\n",
       "  Text(0, 0, ''),\n",
       "  Text(0, 0, ''),\n",
       "  Text(0, 0, ''),\n",
       "  Text(0, 0, ''),\n",
       "  Text(0, 0, ''),\n",
       "  Text(0, 0, ''),\n",
       "  Text(0, 0, '')])"
      ]
     },
     "execution_count": 11,
     "metadata": {},
     "output_type": "execute_result"
    },
    {
     "data": {
      "image/png": "[encoded data removed]",
      "text/plain": [
       "<Figure size 640x480 with 1 Axes>"
      ]
     },
     "metadata": {},
     "output_type": "display_data"
    }
   ],
   "source": [
    "# plot total number of images and total number of labeled images stacked in a bar chart vs folder\n",
    "plt.bar(df[\"folder\"], df[\"num_total\"], label=\"Total Images\")\n",
    "plt.bar(df[\"folder\"], df[\"num_labeled\"], label=\"Labeled Images\")\n",
    "plt.legend()\n",
    "plt.title(\"Test: Total Images vs Labeled Images\", fontsize=14)\n",
    "plt.xlabel(\"Folder\")\n",
    "plt.ylabel(\"Number of Images\")\n",
    "\n",
    "# # add percentage of labeled images as text on top of 2nd bar, make the text white, small font size, and centered, rotated by 90 degrees\n",
    "# for i in range(len(df)):\n",
    "#     plt.text(i, df[\"num_labeled\"][i], f\"{df['percentage_labeled'][i]:.2f}%\", color=\"white\", fontsize=8, ha=\"center\", va=\"bottom\", rotation=90)\n",
    "# fix x labels overlapping by rotating them\n",
    "plt.xticks(rotation=90)\n"
   ]
  },
  {
   "cell_type": "code",
   "execution_count": 12,
   "id": "54b928eb",
   "metadata": {},
   "outputs": [
    {
     "name": "stdout",
     "output_type": "stream",
     "text": [
      "Total number of vehicles: 838\n",
      "Total number of humans: 275\n"
     ]
    },
    {
     "data": {
      "image/png": "[encoded data removed]",
      "text/plain": [
       "<Figure size 600x500 with 1 Axes>"
      ]
     },
     "metadata": {},
     "output_type": "display_data"
    }
   ],
   "source": [
    "# plot number of vehicles and humans vs folder\n",
    "# legend is number of vehicles and humans\n",
    "df.plot(x=\"folder\", y=[\"total_num_v\", \"total_num_h\"], kind=\"bar\", figsize=(6, 5), title=\"Number of Vehicles & Humans\" , ylabel=\"Number of Detections\", xlabel=\"Folder\", legend=True)\n",
    "# set title font size to 14\n",
    "plt.title(\"Test: Number of Vehicles & Humans\", fontsize=14)\n",
    "plt.legend([\"Vehicles\", \"Humans\"])\n",
    "# add values of total number of vehicles and humans on top of bars\n",
    "# for i, row in df.iterrows():\n",
    "#     plt.text(i - 0.3, row[\"total_num_v\"] + 10, row[\"total_num_v\"])\n",
    "#     plt.text(i + 0.0, row[\"total_num_h\"] + 10, row[\"total_num_h\"])\n",
    "\n",
    "# find total number of vehicles and humans\n",
    "total_num_v = df[\"total_num_v\"].sum()\n",
    "total_num_h = df[\"total_num_h\"].sum()\n",
    "print(f\"Total number of vehicles: {total_num_v}\")\n",
    "print(f\"Total number of humans: {total_num_h}\")\n"
   ]
  },
  {
   "cell_type": "code",
   "execution_count": null,
   "id": "b2812d97",
   "metadata": {},
   "outputs": [],
   "source": [
    "# find total number of 320x240 images\n",
    "total_320x240 = df[df[\"resolution\"] == \"320x240\"][\"num_total\"].sum()\n",
    "\n",
    "# find total number of 640x512 images\n",
    "total_640x512 = df[df[\"resolution\"] == \"640x512\"][\"num_total\"].sum()\n",
    "\n",
    "print(f\"Total number of 320x240 images: {total_320x240}\")\n",
    "print(f\"Total number of 640x512 images: {total_640x512}\")\n",
    "\n",
    "# plot number of 320x240 and 640x512 images calculated above with x,y labels and title\n",
    "plt.bar([\"320x240\", \"640x512\"], [total_320x240, total_640x512])\n",
    "plt.title(\"Number of Images by Resolution\")\n",
    "plt.xlabel(\"Resolution\")\n",
    "plt.ylabel(\"Number of Images\")\n",
    "\n",
    "# find total number of 320x240 labeled images\n",
    "total_320x240_labeled = df[df[\"resolution\"] == \"320x240\"][\"num_labeled\"].sum()\n",
    "\n",
    "# find total number of 640x512 labeled images\n",
    "total_640x512_labeled = df[df[\"resolution\"] == \"640x512\"][\"num_labeled\"].sum()\n",
    "\n",
    "print(f\"Total number of 320x240 labeled images: {total_320x240_labeled}\")\n",
    "print(f\"Total number of 640x512 labeled images: {total_640x512_labeled}\")\n",
    "\n",
    "# plot number of 320x240 and 640x512 labeled images calculated above with x,y labels and title\n",
    "plt.bar([\"320x240\", \"640x512\"], [total_320x240_labeled, total_640x512_labeled])\n",
    "\n"
   ]
  },
  {
   "cell_type": "markdown",
   "id": "4775a222",
   "metadata": {},
   "source": [
    "# Train/Val/Test Split"
   ]
  },
  {
   "cell_type": "markdown",
   "id": "edaa8fea",
   "metadata": {},
   "source": [
    "70 15 15"
   ]
  },
  {
   "cell_type": "markdown",
   "id": "aff34e82",
   "metadata": {},
   "source": [
    "10 files\n",
    "7 train\n",
    "1 val\n",
    "2 test (flip these"
   ]
  },
  {
   "cell_type": "code",
   "execution_count": null,
   "id": "c045cde1",
   "metadata": {},
   "outputs": [],
   "source": [
    "print(DATAROOT)"
   ]
  },
  {
   "cell_type": "code",
   "execution_count": null,
   "id": "96d76bfb",
   "metadata": {},
   "outputs": [],
   "source": [
    "from glob import glob\n",
    "glob(DATAROOT+\"/**/.png\", recursive=True)"
   ]
  },
  {
   "cell_type": "code",
   "execution_count": null,
   "id": "bbb975bf",
   "metadata": {},
   "outputs": [],
   "source": [
    "train_files = []\n",
    "val_files = []\n",
    "test_files = []\n",
    "\n",
    "import random\n",
    "from itertools import zip_longest\n",
    "\n",
    "def chunker(seq, size):\n",
    "    return (seq[pos:pos + size] for pos in range(0, len(seq), size))\n",
    "\n",
    "def swap(a, b):\n",
    "    return b, a\n",
    "\n",
    "for run in list_of_runs:\n",
    "    print(\"------\")\n",
    "    print(run)\n",
    "    \n",
    "    files_of_10 = chunker([run + \"/\" + fi for fi in os.listdir(run) if fi.endswith(\".png\")], 10)\n",
    "    \n",
    "    num_val = 2\n",
    "    \n",
    "    \n",
    "    for ten_files in files_of_10:\n",
    "        shuffled = list(ten_files)\n",
    "        random.shuffle(shuffled)\n",
    "        trains = shuffled[:7]\n",
    "        vals = shuffled[7:7+num_val]\n",
    "        tests = shuffled[7+num_val:]\n",
    "        \n",
    "        train_files += trains\n",
    "        val_files += vals\n",
    "        test_files += tests\n",
    "        num_val = 3 - num_val"
   ]
  },
  {
   "cell_type": "code",
   "execution_count": null,
   "id": "1ab7f9c5",
   "metadata": {},
   "outputs": [],
   "source": [
    "len(train_files), len(val_files), len(test_files)"
   ]
  },
  {
   "cell_type": "code",
   "execution_count": null,
   "id": "3f7d79ba",
   "metadata": {},
   "outputs": [],
   "source": [
    "\n",
    "test_files += val_files[-6:]\n",
    "val_files = val_files[:-6]"
   ]
  },
  {
   "cell_type": "code",
   "execution_count": null,
   "id": "23f6d381",
   "metadata": {},
   "outputs": [],
   "source": [
    "len(val_files), len(test_files)"
   ]
  },
  {
   "cell_type": "code",
   "execution_count": null,
   "id": "3f2d2c48",
   "metadata": {},
   "outputs": [],
   "source": [
    "import shutil\n",
    "\n",
    "def copy_out(files, output_path):\n",
    "    \n",
    "    for t in files:\n",
    "        t_no_parent_folder = t[len(DATAROOT):]\n",
    "        target_file = f\"{output_path}/\" + t_no_parent_folder\n",
    "        print(\"copy\", t, \"to\", target_file)\n",
    "        os.makedirs(os.path.dirname(target_file), exist_ok=True)\n",
    "        shutil.copyfile(t, target_file)\n",
    "\n",
    "        label_file = t[:-4]  + \".label\"\n",
    "        if os.path.isfile(label_file):\n",
    "            target_file = f\"{output_path}/\" + label_file[len(DATAROOT):]\n",
    "            print(\"copy\", label_file, \"to\", target_file)\n",
    "            os.makedirs(os.path.dirname(target_file), exist_ok=True)\n",
    "            shutil.copyfile(label_file, target_file)"
   ]
  },
  {
   "cell_type": "code",
   "execution_count": null,
   "id": "c6945d94",
   "metadata": {},
   "outputs": [],
   "source": [
    "# copy_out(train_files, \"train\")\n",
    "# copy_out(val_files, \"val\")\n",
    "# copy_out(test_files, \"test\")"
   ]
  },
  {
   "cell_type": "code",
   "execution_count": null,
   "id": "593cf586",
   "metadata": {},
   "outputs": [],
   "source": []
  }
 ],
 "metadata": {
  "kernelspec": {
   "display_name": "Python 3 (ipykernel)",
   "language": "python",
   "name": "python3"
  },
  "language_info": {
   "codemirror_mode": {
    "name": "ipython",
    "version": 3
   },
   "file_extension": ".py",
   "mimetype": "text/x-python",
   "name": "python",
   "nbconvert_exporter": "python",
   "pygments_lexer": "ipython3",
   "version": "3.9.16"
  },
  "vscode": {
   "interpreter": {
    "hash": "31f2aee4e71d21fbe5cf8b01ff0e069b9275f58929596ceb00d14d90e3e16cd6"
   }
  }
 },
 "nbformat": 4,
 "nbformat_minor": 5
}
