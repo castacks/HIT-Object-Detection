{
 "cells": [
  {
   "cell_type": "code",
   "execution_count": 4,
   "id": "47dffab4",
   "metadata": {},
   "outputs": [],
   "source": [
    "import os"
   ]
  },
  {
   "cell_type": "code",
   "execution_count": 5,
   "id": "ffac73a9",
   "metadata": {},
   "outputs": [
    {
     "data": {
      "text/plain": [
       "['2022-11-08_FIRE-SGL-108-Reade-Township_M600-Coverage-Test',\n",
       " '2021-11-08_FIRE-SGL-174-Rossiter_M100-Data-Collect',\n",
       " '2022-05-11_FIRE-SGL-111-Confluence_M600-Data-Collect']"
      ]
     },
     "execution_count": 5,
     "metadata": {},
     "output_type": "execute_result"
    }
   ],
   "source": [
    "os.listdir(\"WIT-UAV-Dataset\")"
   ]
  },
  {
   "cell_type": "markdown",
   "id": "aa2c35e3",
   "metadata": {},
   "source": [
    "- seek cameras\n",
    "- FLIR cameras\n",
    "\n",
    "\n",
    "per folder: \n",
    "- how many total boxes per class?\n",
    "- what percentage of detections to no detections?\n",
    "- visualization of detection number over time?\n",
    "- size statistics of boxes?\n",
    "- height of UAS?"
   ]
  },
  {
   "cell_type": "markdown",
   "id": "20594d1c",
   "metadata": {},
   "source": [
    "how to ensure similar distributions of fire vs no fire?"
   ]
  },
  {
   "cell_type": "markdown",
   "id": "3e0e856b",
   "metadata": {},
   "source": [
    "```\n",
    "WIT-UAV-Dataset\n",
    "├── 2021-11-08_FIRE-SGL-174-Rossiter_M100-Data-Collect\n",
    "│   ├── 2021-11-07_19-19-31_dji_sdk_and_thermal.repaired\n",
    "│   ├── 2021-11-07_19-19-36_dji_sdk_and_thermal.repaired\n",
    "│   ├── 2021-11-07_19-19-54_dji_sdk_and_thermal\n",
    "│   └── 2021-11-07_19-20-26_dji_sdk_and_thermal.repaired\n",
    "├── 2022-05-11_FIRE-SGL-111-Confluence_M600-Data-Collect\n",
    "│   ├── seek_displayImage\n",
    "│   │   ├── 2022-04-27_00-18-06\n",
    "│   │   ├── 2022-04-27_00-18-47\n",
    "│   │   └── 2022-04-27_00-24-53\n",
    "│   └── thermal_1_image_rect\n",
    "│       ├── 2022-04-27_00-18-06\n",
    "│       ├── 2022-04-27_00-18-47\n",
    "│       └── 2022-04-27_00-24-53\n",
    "└── 2022-11-08_FIRE-SGL-108-Reade-Township_M600-Coverage-Test\n",
    "    ├── 2022-11-08_13-15-55_dji_sdk_and_thermal\n",
    "    ├── 2022-11-08_14-13-12_dji_sdk_and_thermal\n",
    "    └── 2022-11-08_14-40-21_dji_sdk_and_thermal.kinda-repaired-images-only_labeled\n",
    "```"
   ]
  },
  {
   "cell_type": "code",
   "execution_count": 6,
   "id": "a616ce07",
   "metadata": {},
   "outputs": [
    {
     "name": "stdout",
     "output_type": "stream",
     "text": [
      "WIT-UAV-Dataset/2022-11-08_FIRE-SGL-108-Reade-Township_M600-Coverage-Test/2022-11-08_13-15-55_dji_sdk_and_thermal has 0 subdirectories and 250 files\n",
      "WIT-UAV-Dataset/2022-11-08_FIRE-SGL-108-Reade-Township_M600-Coverage-Test/2022-11-08_14-13-12_dji_sdk_and_thermal has 0 subdirectories and 193 files\n",
      "WIT-UAV-Dataset/2022-11-08_FIRE-SGL-108-Reade-Township_M600-Coverage-Test/2022-11-08_14-40-21_dji_sdk_and_thermal.kinda-repaired-images-only_labeled has 0 subdirectories and 660 files\n",
      "WIT-UAV-Dataset/2021-11-08_FIRE-SGL-174-Rossiter_M100-Data-Collect/2021-11-07_19-19-54_dji_sdk_and_thermal has 0 subdirectories and 71 files\n",
      "WIT-UAV-Dataset/2021-11-08_FIRE-SGL-174-Rossiter_M100-Data-Collect/2021-11-07_19-19-31_dji_sdk_and_thermal.repaired has 0 subdirectories and 417 files\n",
      "WIT-UAV-Dataset/2021-11-08_FIRE-SGL-174-Rossiter_M100-Data-Collect/2021-11-07_19-20-26_dji_sdk_and_thermal.repaired has 0 subdirectories and 207 files\n",
      "WIT-UAV-Dataset/2021-11-08_FIRE-SGL-174-Rossiter_M100-Data-Collect/2021-11-07_19-19-36_dji_sdk_and_thermal.repaired has 0 subdirectories and 515 files\n",
      "WIT-UAV-Dataset/2022-05-11_FIRE-SGL-111-Confluence_M600-Data-Collect/seek_displayImage/2022-04-27_00-18-06 has 0 subdirectories and 1585 files\n",
      "WIT-UAV-Dataset/2022-05-11_FIRE-SGL-111-Confluence_M600-Data-Collect/seek_displayImage/2022-04-27_00-24-53 has 0 subdirectories and 1303 files\n",
      "WIT-UAV-Dataset/2022-05-11_FIRE-SGL-111-Confluence_M600-Data-Collect/seek_displayImage/2022-04-27_00-18-47 has 0 subdirectories and 2182 files\n",
      "WIT-UAV-Dataset/2022-05-11_FIRE-SGL-111-Confluence_M600-Data-Collect/thermal_1_image_rect/2022-04-27_00-18-06 has 0 subdirectories and 1177 files\n",
      "WIT-UAV-Dataset/2022-05-11_FIRE-SGL-111-Confluence_M600-Data-Collect/thermal_1_image_rect/2022-04-27_00-24-53 has 0 subdirectories and 1184 files\n",
      "WIT-UAV-Dataset/2022-05-11_FIRE-SGL-111-Confluence_M600-Data-Collect/thermal_1_image_rect/2022-04-27_00-18-47 has 0 subdirectories and 1227 files\n"
     ]
    }
   ],
   "source": [
    "list_of_runs = []\n",
    "for dirpath, dirnames, filenames in os.walk(\"WIT-UAV-Dataset\"):\n",
    "    if not dirnames:\n",
    "        list_of_runs.append(dirpath)\n",
    "        print(dirpath, \"has 0 subdirectories and\", len(filenames), \"files\")"
   ]
  },
  {
   "cell_type": "code",
   "execution_count": 7,
   "id": "bc45dc26",
   "metadata": {},
   "outputs": [
    {
     "data": {
      "text/plain": [
       "['WIT-UAV-Dataset/2022-11-08_FIRE-SGL-108-Reade-Township_M600-Coverage-Test/2022-11-08_13-15-55_dji_sdk_and_thermal',\n",
       " 'WIT-UAV-Dataset/2022-11-08_FIRE-SGL-108-Reade-Township_M600-Coverage-Test/2022-11-08_14-13-12_dji_sdk_and_thermal',\n",
       " 'WIT-UAV-Dataset/2022-11-08_FIRE-SGL-108-Reade-Township_M600-Coverage-Test/2022-11-08_14-40-21_dji_sdk_and_thermal.kinda-repaired-images-only_labeled',\n",
       " 'WIT-UAV-Dataset/2021-11-08_FIRE-SGL-174-Rossiter_M100-Data-Collect/2021-11-07_19-19-54_dji_sdk_and_thermal',\n",
       " 'WIT-UAV-Dataset/2021-11-08_FIRE-SGL-174-Rossiter_M100-Data-Collect/2021-11-07_19-19-31_dji_sdk_and_thermal.repaired',\n",
       " 'WIT-UAV-Dataset/2021-11-08_FIRE-SGL-174-Rossiter_M100-Data-Collect/2021-11-07_19-20-26_dji_sdk_and_thermal.repaired',\n",
       " 'WIT-UAV-Dataset/2021-11-08_FIRE-SGL-174-Rossiter_M100-Data-Collect/2021-11-07_19-19-36_dji_sdk_and_thermal.repaired',\n",
       " 'WIT-UAV-Dataset/2022-05-11_FIRE-SGL-111-Confluence_M600-Data-Collect/seek_displayImage/2022-04-27_00-18-06',\n",
       " 'WIT-UAV-Dataset/2022-05-11_FIRE-SGL-111-Confluence_M600-Data-Collect/seek_displayImage/2022-04-27_00-24-53',\n",
       " 'WIT-UAV-Dataset/2022-05-11_FIRE-SGL-111-Confluence_M600-Data-Collect/seek_displayImage/2022-04-27_00-18-47',\n",
       " 'WIT-UAV-Dataset/2022-05-11_FIRE-SGL-111-Confluence_M600-Data-Collect/thermal_1_image_rect/2022-04-27_00-18-06',\n",
       " 'WIT-UAV-Dataset/2022-05-11_FIRE-SGL-111-Confluence_M600-Data-Collect/thermal_1_image_rect/2022-04-27_00-24-53',\n",
       " 'WIT-UAV-Dataset/2022-05-11_FIRE-SGL-111-Confluence_M600-Data-Collect/thermal_1_image_rect/2022-04-27_00-18-47']"
      ]
     },
     "execution_count": 7,
     "metadata": {},
     "output_type": "execute_result"
    }
   ],
   "source": [
    "list_of_runs"
   ]
  },
  {
   "cell_type": "code",
   "execution_count": 8,
   "id": "1445db04",
   "metadata": {},
   "outputs": [],
   "source": [
    "run = list_of_runs[1]"
   ]
  },
  {
   "cell_type": "code",
   "execution_count": 9,
   "id": "8fbba0d3",
   "metadata": {},
   "outputs": [
    {
     "data": {
      "text/plain": [
       "'WIT-UAV-Dataset/2022-11-08_FIRE-SGL-108-Reade-Township_M600-Coverage-Test/2022-11-08_14-13-12_dji_sdk_and_thermal'"
      ]
     },
     "execution_count": 9,
     "metadata": {},
     "output_type": "execute_result"
    }
   ],
   "source": [
    "run"
   ]
  },
  {
   "cell_type": "code",
   "execution_count": 10,
   "id": "88951a26",
   "metadata": {},
   "outputs": [],
   "source": [
    "def count_detections_per_class(path):\n",
    "    num_v = 0\n",
    "    num_h = 0\n",
    "    with open(path, \"r\") as f:\n",
    "        lines = f.readlines()\n",
    "        for line in lines:\n",
    "            if \"v\" in line or \"c\" in line:\n",
    "                num_v += 1\n",
    "            elif \"h\" in line:\n",
    "                num_h += 1\n",
    "            else:\n",
    "                print(lines)\n",
    "                raise ValueError(f\"File {path} has no class\")\n",
    "    return num_v, num_h"
   ]
  },
  {
   "cell_type": "code",
   "execution_count": 11,
   "id": "cf690fa7",
   "metadata": {},
   "outputs": [],
   "source": [
    "def count_run_stats(run):\n",
    "    num_total = 0\n",
    "    num_labeled = 0\n",
    "    total_num_v = 0\n",
    "    total_num_h = 0\n",
    "    for f in os.listdir(run):\n",
    "        if \"label\" in f: # is label file\n",
    "            num_v, num_h = count_detections_per_class(run + \"/\" + f)\n",
    "            total_num_v += num_v\n",
    "            total_num_h += num_h\n",
    "\n",
    "            if num_v > 0 or num_h > 0:\n",
    "                num_labeled += 1\n",
    "        else: # is image file\n",
    "            num_total += 1\n",
    "\n",
    "    print(f\"{num_total=}, {num_labeled=}, {total_num_v=}, {total_num_h=}\")\n",
    "    print(f\"percentage labeled={num_labeled/num_total}\")"
   ]
  },
  {
   "cell_type": "code",
   "execution_count": 12,
   "id": "9cb454e0",
   "metadata": {},
   "outputs": [
    {
     "name": "stdout",
     "output_type": "stream",
     "text": [
      "WIT-UAV-Dataset/2022-11-08_FIRE-SGL-108-Reade-Township_M600-Coverage-Test/2022-11-08_13-15-55_dji_sdk_and_thermal\n",
      "num_total=130, num_labeled=24, total_num_v=3, total_num_h=76\n",
      "percentage labeled=0.18461538461538463\n",
      "WIT-UAV-Dataset/2022-11-08_FIRE-SGL-108-Reade-Township_M600-Coverage-Test/2022-11-08_14-13-12_dji_sdk_and_thermal\n",
      "num_total=112, num_labeled=28, total_num_v=64, total_num_h=160\n",
      "percentage labeled=0.25\n",
      "WIT-UAV-Dataset/2022-11-08_FIRE-SGL-108-Reade-Township_M600-Coverage-Test/2022-11-08_14-40-21_dji_sdk_and_thermal.kinda-repaired-images-only_labeled\n",
      "num_total=330, num_labeled=53, total_num_v=73, total_num_h=11\n",
      "percentage labeled=0.1606060606060606\n",
      "WIT-UAV-Dataset/2021-11-08_FIRE-SGL-174-Rossiter_M100-Data-Collect/2021-11-07_19-19-54_dji_sdk_and_thermal\n",
      "num_total=49, num_labeled=22, total_num_v=0, total_num_h=33\n",
      "percentage labeled=0.4489795918367347\n",
      "WIT-UAV-Dataset/2021-11-08_FIRE-SGL-174-Rossiter_M100-Data-Collect/2021-11-07_19-19-31_dji_sdk_and_thermal.repaired\n",
      "num_total=368, num_labeled=47, total_num_v=36, total_num_h=176\n",
      "percentage labeled=0.12771739130434784\n",
      "WIT-UAV-Dataset/2021-11-08_FIRE-SGL-174-Rossiter_M100-Data-Collect/2021-11-07_19-20-26_dji_sdk_and_thermal.repaired\n",
      "num_total=150, num_labeled=54, total_num_v=0, total_num_h=137\n",
      "percentage labeled=0.36\n",
      "WIT-UAV-Dataset/2021-11-08_FIRE-SGL-174-Rossiter_M100-Data-Collect/2021-11-07_19-19-36_dji_sdk_and_thermal.repaired\n",
      "num_total=469, num_labeled=46, total_num_v=101, total_num_h=59\n",
      "percentage labeled=0.09808102345415778\n",
      "WIT-UAV-Dataset/2022-05-11_FIRE-SGL-111-Confluence_M600-Data-Collect/seek_displayImage/2022-04-27_00-18-06\n",
      "num_total=1144, num_labeled=175, total_num_v=174, total_num_h=87\n",
      "percentage labeled=0.15297202797202797\n",
      "WIT-UAV-Dataset/2022-05-11_FIRE-SGL-111-Confluence_M600-Data-Collect/seek_displayImage/2022-04-27_00-24-53\n",
      "num_total=692, num_labeled=456, total_num_v=1168, total_num_h=337\n",
      "percentage labeled=0.6589595375722543\n",
      "WIT-UAV-Dataset/2022-05-11_FIRE-SGL-111-Confluence_M600-Data-Collect/seek_displayImage/2022-04-27_00-18-47\n",
      "num_total=1102, num_labeled=436, total_num_v=1115, total_num_h=245\n",
      "percentage labeled=0.3956442831215971\n",
      "WIT-UAV-Dataset/2022-05-11_FIRE-SGL-111-Confluence_M600-Data-Collect/thermal_1_image_rect/2022-04-27_00-18-06\n",
      "num_total=974, num_labeled=49, total_num_v=50, total_num_h=0\n",
      "percentage labeled=0.050308008213552365\n",
      "WIT-UAV-Dataset/2022-05-11_FIRE-SGL-111-Confluence_M600-Data-Collect/thermal_1_image_rect/2022-04-27_00-24-53\n",
      "num_total=723, num_labeled=413, total_num_v=1381, total_num_h=222\n",
      "percentage labeled=0.5712309820193637\n",
      "WIT-UAV-Dataset/2022-05-11_FIRE-SGL-111-Confluence_M600-Data-Collect/thermal_1_image_rect/2022-04-27_00-18-47\n",
      "num_total=716, num_labeled=260, total_num_v=865, total_num_h=0\n",
      "percentage labeled=0.36312849162011174\n"
     ]
    }
   ],
   "source": [
    "for run in list_of_runs:\n",
    "    print(run)\n",
    "    count_run_stats(run)"
   ]
  },
  {
   "cell_type": "code",
   "execution_count": null,
   "id": "b7cc9317",
   "metadata": {},
   "outputs": [],
   "source": []
  }
 ],
 "metadata": {
  "kernelspec": {
   "display_name": "Python 3",
   "language": "python",
   "name": "python3"
  },
  "language_info": {
   "codemirror_mode": {
    "name": "ipython",
    "version": 3
   },
   "file_extension": ".py",
   "mimetype": "text/x-python",
   "name": "python",
   "nbconvert_exporter": "python",
   "pygments_lexer": "ipython3",
   "version": "3.8.10"
  },
  "vscode": {
   "interpreter": {
    "hash": "916dbcbb3f70747c44a77c7bcd40155683ae19c65e1c03b4aa3499c5328201f1"
   }
  }
 },
 "nbformat": 4,
 "nbformat_minor": 5
}
