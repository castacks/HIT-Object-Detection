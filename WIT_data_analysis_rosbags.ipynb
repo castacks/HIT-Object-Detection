{
 "cells": [
  {
   "cell_type": "code",
   "execution_count": 67,
   "metadata": {},
   "outputs": [],
   "source": [
    "import rospy\n",
    "import rosbag\n",
    "import numpy as np\n",
    "import pandas as pd\n",
    "import os\n",
    "import matplotlib.pyplot as plt"
   ]
  },
  {
   "cell_type": "code",
   "execution_count": 36,
   "metadata": {},
   "outputs": [],
   "source": [
    "path = \"/media/devansh/T7/bags_for_devansh\"\n",
    "save_path = \"/home/devansh/csvs\"\n",
    "bag_extension = \".bag\"\n",
    "debug = False"
   ]
  },
  {
   "cell_type": "code",
   "execution_count": 37,
   "metadata": {},
   "outputs": [],
   "source": [
    "def get_bag_names(bag_path):\n",
    "    \"\"\"Get bag names from directory\n",
    "    Args:\n",
    "        bag_path (str): path where bag files are stored\n",
    "    Returns:\n",
    "        bag_names (List[str]): list of bag names in bag_path\n",
    "    \"\"\"\n",
    "    bag_names = []\n",
    "    for file in os.listdir(bag_path):\n",
    "        if file.endswith(bag_extension):\n",
    "            bag_names.append(file)\n",
    "    return bag_names"
   ]
  },
  {
   "cell_type": "code",
   "execution_count": 38,
   "metadata": {},
   "outputs": [],
   "source": [
    "\n",
    "def get_data_from_bag(bag_name, bag_path):\n",
    "    \"\"\"Open bag, read data and return as lists\n",
    "    Args:\n",
    "        bag_name (str): name of bag\n",
    "        bag_path (str): path of bag\n",
    "    Returns:\n",
    "        pressure_data (List[float]): list of time, pressure data\n",
    "    \"\"\"    \n",
    "\n",
    "    # open bag and handle unindexed bag exception\n",
    "    try:\n",
    "        bag = rosbag.Bag(os.path.join(bag_path, bag_name))\n",
    "    except rosbag.bag.ROSBagUnindexedException:\n",
    "        print(f'{bag_name} is unindexed. Index bag using \\'rosbag index <bag_name>\\'.')\n",
    "        print('Exiting...')\n",
    "        exit(0)\n",
    "        \n",
    "    topics = bag.get_type_and_topic_info()[1].keys()\n",
    "    if debug:\n",
    "        print(topics)\n",
    "\n",
    "    topic_name = \"/dji_sdk/gps_position\"\n",
    "    # check if topic is in bag\n",
    "    if \"/uav1/dji_sdk/gps_position\" in topics:\n",
    "        topic_name = \"/uav1/dji_sdk/gps_position\"\n",
    "    elif \"/dji_sdk/gps_position\" in topics:\n",
    "        topic_name = \"/dji_sdk/gps_position\"\n",
    "    else:\n",
    "        print(\"Topic not found in bag\")\n",
    "        print(\"Skipping bag\")\n",
    "        return None\n",
    "    \n",
    "    if debug:\n",
    "        print(topic_name)\n",
    "    \n",
    "    # height = []\n",
    "    # create empty numpy array to store height\n",
    "    height = np.empty((0,2))\n",
    "    \n",
    "    for topic, msg, t in bag.read_messages(topic_name):\n",
    "\n",
    "        # height.append([msg.header.stamp.secs + msg.header.stamp.nsecs/1e9] + [msg.altitude])\n",
    "        # append time and height to numpy array\n",
    "        height = np.append(height, [[msg.header.stamp.secs + msg.header.stamp.nsecs/1e9, msg.altitude]], axis=0)\n",
    "\n",
    "        if debug:\n",
    "            print(msg.header.stamp.secs + msg.header.stamp.nsecs/1e9 - time)\n",
    "            time = msg.header.stamp.secs + msg.header.stamp.nsecs/1e9 \n",
    "            print(height)\n",
    "    bag.close()\n",
    "    return height"
   ]
  },
  {
   "cell_type": "code",
   "execution_count": 39,
   "metadata": {},
   "outputs": [
    {
     "name": "stdout",
     "output_type": "stream",
     "text": [
      "['/media/devansh/T7/bags_for_devansh/1_rossiter', '/media/devansh/T7/bags_for_devansh/2_confluence', '/media/devansh/T7/bags_for_devansh/3_reade']\n"
     ]
    }
   ],
   "source": [
    "# get all folders in path\n",
    "bag_paths = [os.path.join(path, folder) for folder in os.listdir(path) if os.path.isdir(os.path.join(path, folder))]\n",
    "print(bag_paths)"
   ]
  },
  {
   "cell_type": "code",
   "execution_count": 40,
   "metadata": {},
   "outputs": [
    {
     "name": "stdout",
     "output_type": "stream",
     "text": [
      "[['/media/devansh/T7/bags_for_devansh/1_rossiter/2021-11-07_19-20-26_dji_sdk_and_thermal.repaired.bag'], ['/media/devansh/T7/bags_for_devansh/2_confluence/2022-04-27_00-36-10.bag'], ['/media/devansh/T7/bags_for_devansh/3_reade/2022-11-08_14-00-58_dji_sdk_and_thermal.bag']]\n"
     ]
    }
   ],
   "source": [
    "# get bag names for all bag paths\n",
    "bag_names = []  # list of lists\n",
    "for bag_path in bag_paths:\n",
    "    bag_names.append(get_bag_names(bag_path))\n",
    "    # append path to bag name\n",
    "    bag_names[-1] = [os.path.join(bag_path, bag_name) for bag_name in bag_names[-1]]\n",
    "print(bag_names)"
   ]
  },
  {
   "cell_type": "code",
   "execution_count": 41,
   "metadata": {},
   "outputs": [
    {
     "ename": "UnboundLocalError",
     "evalue": "local variable 'topic_name' referenced before assignment",
     "output_type": "error",
     "traceback": [
      "\u001b[0;31m---------------------------------------------------------------------------\u001b[0m",
      "\u001b[0;31mUnboundLocalError\u001b[0m                         Traceback (most recent call last)",
      "Cell \u001b[0;32mIn[41], line 6\u001b[0m\n\u001b[1;32m      3\u001b[0m \u001b[39mfor\u001b[39;00m bag_path, bag_name \u001b[39min\u001b[39;00m \u001b[39mzip\u001b[39m(bag_paths, bag_names):\n\u001b[1;32m      4\u001b[0m     \u001b[39mfor\u001b[39;00m bag \u001b[39min\u001b[39;00m bag_name:\n\u001b[1;32m      5\u001b[0m         \u001b[39m# get height data\u001b[39;00m\n\u001b[0;32m----> 6\u001b[0m         height \u001b[39m=\u001b[39m get_data_from_bag(bag, bag_path)\n\u001b[1;32m      7\u001b[0m         \u001b[39m# create dataframe\u001b[39;00m\n\u001b[1;32m      8\u001b[0m         df \u001b[39m=\u001b[39m pd\u001b[39m.\u001b[39mDataFrame(height, columns\u001b[39m=\u001b[39m[\u001b[39m'\u001b[39m\u001b[39mtime\u001b[39m\u001b[39m'\u001b[39m, \u001b[39m'\u001b[39m\u001b[39mheight\u001b[39m\u001b[39m'\u001b[39m])\n",
      "Cell \u001b[0;32mIn[38], line 28\u001b[0m, in \u001b[0;36mget_data_from_bag\u001b[0;34m(bag_name, bag_path)\u001b[0m\n\u001b[1;32m     26\u001b[0m     topic_name \u001b[39m=\u001b[39m \u001b[39m\"\u001b[39m\u001b[39m/dji_sdk/gps_position\u001b[39m\u001b[39m\"\u001b[39m\n\u001b[1;32m     27\u001b[0m \u001b[39melse\u001b[39;00m:\n\u001b[0;32m---> 28\u001b[0m     \u001b[39mraise\u001b[39;00m \u001b[39mException\u001b[39;00m(\u001b[39mf\u001b[39m\u001b[39m\"\u001b[39m\u001b[39mTopic \u001b[39m\u001b[39m{\u001b[39;00mtopic_name\u001b[39m}\u001b[39;00m\u001b[39m not found in bag \u001b[39m\u001b[39m{\u001b[39;00mbag_name\u001b[39m}\u001b[39;00m\u001b[39m\"\u001b[39m)\n\u001b[1;32m     30\u001b[0m \u001b[39mif\u001b[39;00m debug:\n\u001b[1;32m     31\u001b[0m     \u001b[39mprint\u001b[39m(topic_name)\n",
      "\u001b[0;31mUnboundLocalError\u001b[0m: local variable 'topic_name' referenced before assignment"
     ]
    }
   ],
   "source": [
    "# loop through all bag names and get height data (2d numpy array), store it into pandas dataframes\n",
    "dataframes = []\n",
    "for bag_path, bag_name in zip(bag_paths, bag_names):\n",
    "    for bag in bag_name:\n",
    "        # get height data, if None, skip bag\n",
    "        height = get_data_from_bag(bag, bag_path)\n",
    "        if height is None:\n",
    "            continue\n",
    "        # create dataframe\n",
    "        df = pd.DataFrame(height, columns=['time', 'height'])\n",
    "        # append bag name to dataframe\n",
    "        df['bag_name'] = bag\n",
    "        # append dataframe to list of dataframes\n",
    "        dataframes.append(df)"
   ]
  },
  {
   "cell_type": "code",
   "execution_count": 52,
   "metadata": {},
   "outputs": [
    {
     "name": "stdout",
     "output_type": "stream",
     "text": [
      "(7484, 3)\n"
     ]
    }
   ],
   "source": [
    "print(dataframes[0].shape)"
   ]
  },
  {
   "cell_type": "code",
   "execution_count": 54,
   "metadata": {},
   "outputs": [
    {
     "name": "stdout",
     "output_type": "stream",
     "text": [
      "       time    height                                           bag_name\n",
      "0  0.000000  0.000000  /media/devansh/T7/bags_for_devansh/1_rossiter/...\n",
      "1  0.001790  0.010895  /media/devansh/T7/bags_for_devansh/1_rossiter/...\n",
      "2  0.049179  0.021698  /media/devansh/T7/bags_for_devansh/1_rossiter/...\n",
      "3  0.049603  0.033447  /media/devansh/T7/bags_for_devansh/1_rossiter/...\n",
      "4  0.050223  0.045502  /media/devansh/T7/bags_for_devansh/1_rossiter/...\n"
     ]
    }
   ],
   "source": [
    "# clean dataframes\n",
    "for df in dataframes:\n",
    "    # time starts from 0\n",
    "    df['time'] = df['time'] - df['time'].iloc[0]\n",
    "    # height starts from 0\n",
    "    df['height'] = df['height'] - df['height'].iloc[0]\n",
    "\n",
    "print(dataframes[0].head())"
   ]
  },
  {
   "cell_type": "code",
   "execution_count": 62,
   "metadata": {},
   "outputs": [],
   "source": [
    "# save dataframes to csv in given folder but save folder structure. Do not include bag_name in csv\n",
    "for df in dataframes:\n",
    "    # get bag name\n",
    "    bag_name = df['bag_name'].iloc[0]\n",
    "    # get bag path\n",
    "    bag_path = bag_name.split(bag_name.split('/')[-1])[0]\n",
    "    # remove bag name from dataframe\n",
    "    df = df.drop('bag_name', axis=1)\n",
    "    # get folder name\n",
    "    folder_name = bag_path.split('/')[-2]\n",
    "    # create folder if it does not exist\n",
    "    if not os.path.exists(os.path.join(save_path, folder_name)):\n",
    "        os.makedirs(os.path.join(save_path, folder_name))\n",
    "    # save dataframe to csv\n",
    "    df.to_csv(os.path.join(save_path, folder_name, bag_name.split('/')[-1].split('.')[0] + '.csv'), index=False)"
   ]
  },
  {
   "cell_type": "code",
   "execution_count": 65,
   "metadata": {},
   "outputs": [
    {
     "name": "stderr",
     "output_type": "stream",
     "text": [
      "/usr/lib/python3/dist-packages/matplotlib/cbook/__init__.py:1402: FutureWarning: Support for multi-dimensional indexing (e.g. `obj[:, None]`) is deprecated and will be removed in a future version.  Convert to a numpy array before indexing instead.\n",
      "  ndim = x[:, None].ndim\n",
      "/usr/lib/python3/dist-packages/matplotlib/axes/_base.py:276: FutureWarning: Support for multi-dimensional indexing (e.g. `obj[:, None]`) is deprecated and will be removed in a future version.  Convert to a numpy array before indexing instead.\n",
      "  x = x[:, np.newaxis]\n",
      "/usr/lib/python3/dist-packages/matplotlib/axes/_base.py:278: FutureWarning: Support for multi-dimensional indexing (e.g. `obj[:, None]`) is deprecated and will be removed in a future version.  Convert to a numpy array before indexing instead.\n",
      "  y = y[:, np.newaxis]\n"
     ]
    },
    {
     "data": {
      "image/png": "[encoded data removed]",
      "text/plain": [
       "<Figure size 640x480 with 1 Axes>"
      ]
     },
     "metadata": {},
     "output_type": "display_data"
    }
   ],
   "source": [
    "# plots\n",
    "for df in dataframes:\n",
    "    plt.plot(df['time'], df['height'])\n",
    "    \n",
    "plt.show()"
   ]
  }
 ],
 "metadata": {
  "kernelspec": {
   "display_name": "Python 3",
   "language": "python",
   "name": "python3"
  },
  "language_info": {
   "codemirror_mode": {
    "name": "ipython",
    "version": 3
   },
   "file_extension": ".py",
   "mimetype": "text/x-python",
   "name": "python",
   "nbconvert_exporter": "python",
   "pygments_lexer": "ipython3",
   "version": "3.8.10"
  },
  "orig_nbformat": 4,
  "vscode": {
   "interpreter": {
    "hash": "916dbcbb3f70747c44a77c7bcd40155683ae19c65e1c03b4aa3499c5328201f1"
   }
  }
 },
 "nbformat": 4,
 "nbformat_minor": 2
}
